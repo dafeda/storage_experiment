{
 "cells": [
  {
   "cell_type": "markdown",
   "id": "1add79bf",
   "metadata": {},
   "source": [
    "# Testing writing to $N$ `hdf5` files in parallel where each contains $p$ numbers"
   ]
  },
  {
   "cell_type": "code",
   "execution_count": 1,
   "id": "6ae1fabb",
   "metadata": {},
   "outputs": [],
   "source": [
    "import numpy as np\n",
    "rng = np.random.default_rng(12345)\n",
    "import pandas as pd\n",
    "\n",
    "from p_tqdm import p_map"
   ]
  },
  {
   "cell_type": "code",
   "execution_count": 2,
   "id": "24a89783",
   "metadata": {},
   "outputs": [],
   "source": [
    "# Number of parameters\n",
    "p = 100000\n",
    "# Number of ensembles\n",
    "N = 100"
   ]
  },
  {
   "cell_type": "code",
   "execution_count": 3,
   "id": "e74e2c84",
   "metadata": {},
   "outputs": [],
   "source": [
    "def write_to_many(N):\n",
    "    df = pd.DataFrame(rng.normal(size=p), columns=[f\"{N}\"])\n",
    "    df.to_hdf(f\"Ensemble_{N}.h5\", key=\"df\", mode=\"w\")\n",
    "    return True"
   ]
  },
  {
   "cell_type": "markdown",
   "id": "b0750ddf",
   "metadata": {},
   "source": [
    "## Write to files"
   ]
  },
  {
   "cell_type": "code",
   "execution_count": 4,
   "id": "025af50d",
   "metadata": {},
   "outputs": [
    {
     "data": {
      "application/vnd.jupyter.widget-view+json": {
       "model_id": "861060e83a214198b92e758a1435e21b",
       "version_major": 2,
       "version_minor": 0
      },
      "text/plain": [
       "  0%|          | 0/100 [00:00<?, ?it/s]"
      ]
     },
     "metadata": {},
     "output_type": "display_data"
    },
    {
     "name": "stdout",
     "output_type": "stream",
     "text": [
      "Writing to 100 hdf5 files where each contains 100000 numbers takes:\n",
      "CPU times: user 92.9 ms, sys: 54.9 ms, total: 148 ms\n",
      "Wall time: 1.02 s\n"
     ]
    }
   ],
   "source": [
    "%%time\n",
    "res = p_map(write_to_many, np.arange(0, N))\n",
    "print(f\"Writing to {N} hdf5 files where each contains {p} numbers takes:\")"
   ]
  },
  {
   "cell_type": "markdown",
   "id": "d8f9ccc8",
   "metadata": {},
   "source": [
    "## Read from files"
   ]
  },
  {
   "cell_type": "code",
   "execution_count": 5,
   "id": "f37646bb",
   "metadata": {},
   "outputs": [
    {
     "name": "stdout",
     "output_type": "stream",
     "text": [
      "Combining 100 hdf5 files containing 100000 numbers each into one data frame takes:\n",
      "CPU times: user 804 ms, sys: 107 ms, total: 911 ms\n",
      "Wall time: 1.52 s\n"
     ]
    }
   ],
   "source": [
    "%%time\n",
    "df = pd.DataFrame(index=np.arange(0, p))\n",
    "for i in range(N):\n",
    "    df = df.join(pd.read_hdf(f\"Ensemble_{i}.h5\"))\n",
    "    \n",
    "print(f\"Combining {N} hdf5 files containing {p} numbers each into one data frame takes:\")"
   ]
  },
  {
   "cell_type": "code",
   "execution_count": 6,
   "id": "1ce17473",
   "metadata": {},
   "outputs": [
    {
     "data": {
      "text/plain": [
       "(100000, 100)"
      ]
     },
     "execution_count": 6,
     "metadata": {},
     "output_type": "execute_result"
    }
   ],
   "source": [
    "df.shape"
   ]
  },
  {
   "cell_type": "code",
   "execution_count": 7,
   "id": "4d43804b",
   "metadata": {},
   "outputs": [],
   "source": [
    "assert df.shape == (p, N)"
   ]
  },
  {
   "cell_type": "markdown",
   "id": "3d733d94",
   "metadata": {},
   "source": [
    "## Clean up"
   ]
  },
  {
   "cell_type": "code",
   "execution_count": 8,
   "id": "1e7cc134",
   "metadata": {},
   "outputs": [],
   "source": [
    "from pathlib import Path\n",
    "for p in Path(\".\").glob(\"Ensemble_*.h5\"):\n",
    "    p.unlink()"
   ]
  },
  {
   "cell_type": "code",
   "execution_count": null,
   "id": "0aa267bc",
   "metadata": {},
   "outputs": [],
   "source": []
  }
 ],
 "metadata": {
  "jupytext": {
   "formats": "ipynb,auto:percent"
  },
  "kernelspec": {
   "display_name": "Python 3 (ipykernel)",
   "language": "python",
   "name": "python3"
  },
  "language_info": {
   "codemirror_mode": {
    "name": "ipython",
    "version": 3
   },
   "file_extension": ".py",
   "mimetype": "text/x-python",
   "name": "python",
   "nbconvert_exporter": "python",
   "pygments_lexer": "ipython3",
   "version": "3.8.13"
  }
 },
 "nbformat": 4,
 "nbformat_minor": 5
}
